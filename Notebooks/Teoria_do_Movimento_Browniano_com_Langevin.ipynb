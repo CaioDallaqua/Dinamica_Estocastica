{
 "cells": [
  {
   "cell_type": "markdown",
   "metadata": {},
   "source": [
    "# Teoria do Movimento Browniano com Langevin"
   ]
  },
  {
   "cell_type": "markdown",
   "metadata": {},
   "source": [
    "Autor: Caio Dallaqua\n",
    "\n",
    "Orientador: Gastão Krein, IFT-Unesp\n",
    "\n",
    "Sumário:\n",
    "\n",
    "- [0 - Introdução](#0---Introdução)\n",
    "- [1 - Abordagem inicial](#1---Abordagem-inicial)\n",
    "    + 1.1 - Média condicional da velocidade\n",
    "    + 1.2 - Média condicional da velocidade quadrática\n",
    "- [2 - Acertando o modelo](#2---Acertando-o-modelo)\n",
    "    + 2.1 - Velocidade média\n",
    "    + 2.2 - Velocidade quadrática média\n",
    "    + 2.3 - Relação de flutuação-dissipação\n",
    "    + 2.4 - Deslocamento médio\n",
    "    + 2.5 - Deslocamento médio quadrático\n",
    "- [3 - Conclusão](#3---Conclusão)\n",
    "- [4 - Bibliografia](#4---Bibliografia)"
   ]
  },
  {
   "cell_type": "markdown",
   "metadata": {},
   "source": [
    "## 0 - Introdução"
   ]
  },
  {
   "cell_type": "markdown",
   "metadata": {},
   "source": [
    "Atualmente, podemos definir o movimento browniano como o movimento aleatório de partículas microscópicas imersas em um fluido. Este movimento provém dos choques das moléculas do fuido com essas partículas microscópicas.\n",
    "\n",
    "A descoberta do que hoje chamamos de movimento browniano é atribuída a Robert Brown (1773-1858), devido ao seu trabalho publicado em 1827. Com um microscópio, Brown estava estudando o movimento de grãos de pólen suspensos em água. Ele observou que os grãos de pólen executavam um movimento agitado e irregular - semelhante ao apresentado na animação abaixo.\n",
    "\n",
    "<img src=\"http://1.bp.blogspot.com/-svjqvsMwGwA/T4-mlJjw_iI/AAAAAAAACDw/l5-pfiKopE4/s1600/brownianmotionlarge1.gif\" alt=\"Falha ao carregar\" height=\"302\" width=\"302\">\n",
    "\n",
    "Foram feitas várias tentativas de explicar o fenômeno. A que se mostrou experimentalmente correta, desenvolvida por Albert Einstein em 1905, vinha da hipótese atômica e foi extremamente relevante para que a comunidade científica aceitasse a natureza atômica da matéria.\n",
    "\n",
    "\n",
    "A **equação de Langevin** foi introduzida em 1908 por Paul Langevin como uma alternativa ao tratamento do movimento browniano, considerado anteriormente por Einstein (1905) e Smoluchowski (1906).  Nas palavras do próprio Langevin, sua abordagem é\n",
    "<h3>\n",
    "> \"une démonstration infiniment plus simple.\""
   ]
  },
  {
   "cell_type": "markdown",
   "metadata": {
    "collapsed": true
   },
   "source": [
    "## 1 - Abordagem inicial"
   ]
  },
  {
   "cell_type": "markdown",
   "metadata": {},
   "source": [
    "Começaremos com a abordagem mais simples possível para tentar descrever o movimento browniano com Langevin, de forma a irmos ganhando intuição até chegarmos num modelo razoável e explorarmos algumas de suas consequências. Todo o desenvolvimento nesse trabalho será feito para uma dimensão, podendo ser extendido em duas ou três.\n",
    "\n",
    "Para descrever o movimento de uma partícula num fluido (movimento browniano), utilizaremos a seguinte equação como ponto de partida:\n",
    "\n",
    "$$m\\dot v = F(t) \\tag{1}$$\n",
    "\n",
    "onde $\\dot v = \\frac{dv}{dt}$, $v$ é a velocidade da partícula, e $F(t)$ uma força aleatória que possui um valor para cada instante de tempo $t$.\n",
    "\n",
    "A ideia por trás de $F(t)$ é que a partícula de interesse estará colidindo de forma intensa e imprevisível com as moléculas do fluido. Disso vem a característica aleatória de $F$, como tentativa de adequar um modelo ao sistema. $F(t)$ é o que tecnicamente recebe o nome de Ruído Gaussiano Branco (White Gaussian Noise).\n",
    "\n",
    "Nota: *Quando dizemos que a força no modelo de Langevin é aleatória, queremos dizer que ela é aleatória para todos os propósitos práticos... e não realmente aleatória. Se fôssemos capazes de escrever as equações de movimento para todas as partículas no sistema, então saberíamos aonde elas estão indo, quais partículas colidirão a seguir, etc... e não tem nada de aleatório nisso! No entanto, como temos um grande número de partículas, para todos os propósitos práticos, essa força é totalmente aleatória*."
   ]
  },
  {
   "cell_type": "markdown",
   "metadata": {},
   "source": [
    "Como a eq. (1) é uma equação diferencial simples em $v$, podemos  resolvê-la para a velocidade:\n",
    "\n",
    "$$m \\dot v = F(t) \\implies v(t) = v_0 + \\frac{1}{m}\\int_{0}^{t} F(t')dt' \\tag{2}$$\n",
    "\n",
    "A eq. (2) é, na verdade, uma quantidade infinita de equações, pois em cada tempo $F$ pode assumir um valor diferente. Por essa razão, estaremos interessados em valores médios."
   ]
  },
  {
   "cell_type": "markdown",
   "metadata": {},
   "source": [
    "### 1.1 Média condicional da velocidade"
   ]
  },
  {
   "cell_type": "markdown",
   "metadata": {},
   "source": [
    "$$v(t) = v_0 + \\frac{1}{m} \\int_{0}^{t} dt' F(t')$$\n",
    "\n",
    "Tomando a média:\n",
    "\n",
    "$$\\overline{v(t)} = v_0 + \\frac{1}{m} \\overline{\\int_{0}^{t} dt' F(t')} = v_0 + \\frac{1}{m} \\int_{0}^{t}dt' \\overline{F(t')}$$\n",
    "\n",
    "Assumimos $\\overline{F(t)} = 0$, portanto\n",
    "\n",
    "$$\\large \\overline{v(t)} = v_0 \\tag{3}$$\n",
    "\n",
    "Se a média não fosse zero para as forças aleatórias, a partícula poderia ser acelerada indefinidamente numa direção, até sair do recipiente ou colidir com sua parede, o que tira o caráter de sistema isolado da análise."
   ]
  },
  {
   "cell_type": "markdown",
   "metadata": {},
   "source": [
    "### 1.2 - Média da velocidade quadrática"
   ]
  },
  {
   "cell_type": "markdown",
   "metadata": {},
   "source": [
    "Quadrando $v(t) = v_0 + \\frac{1}{m} \\int_{0}^{t}dt' F(t')$, obtemos\n",
    "\n",
    "$$\\\\ v^2(t) = v_0^2 + 2\\frac{v_0}{m}\\int_{0}^{t}dt' F(t') + \\frac{1}{m^2}\\int_{0}^{t}dt_1\\int_{0}^{t}dt_2 F(t_1)F(t_2),$$\n",
    "\n",
    "cuja média é\n",
    "\n",
    "$$\\begin{align}\n",
    "\\overline{v^2(t)} &= v_0^2 + 2\\frac{v_0}{m}\\int_{0}^{t}dt' \\overline{F(t')} + \\frac{1}{m^2}\\int_{0}^{t}dt_1\\int_{0}^{t}dt_2 \\overline{F(t_1)F(t_2)} \\\\ \\\\\n",
    "&= v_0^2 + \\frac{1}{m^2}\\int_{0}^{t}dt_1\\int_{0}^{t}dt_2 \\overline{F(t_1)F(t_2)}\n",
    "\\end{align}$$\n",
    "\n",
    "Fazemos a requisição de que $F(t)$ possua a seguinte propriedade: \n",
    "\n",
    "$$\\overline{F(t_1)F(t_2)} = \\delta(t_1-t_2)\\Gamma$$ \n",
    "\n",
    "Temos então\n",
    "\n",
    "$$\\begin{align}\n",
    "\\overline{v^2(t)} &= v_0^2 + \\frac{\\Gamma}{m^2}\\int_{0}^{t}dt_1\\int_{0}^{t}dt_2 \\delta(t_1-t_2)\\\\\n",
    "&= v_0^2 + \\frac{\\Gamma}{m^2}\\int_{0}^{t}dt_1\n",
    "\\end{align}$$\n",
    "\n",
    "A equação acima equivale a \n",
    "\n",
    "$$ \\large \\overline{v^2(t)} = v_0^2 + \\Gamma\\frac{t}{m^2} \\tag{4}$$\n",
    "\n",
    "Isso não faz sentido físico, pois diz que $t \\rightarrow \\infty \\implies energia \\rightarrow \\infty$...\n",
    "\n",
    "Para o modelo, falta considerar a força de arraste. Essa força é proporcional e contrária à velocidade da partícula."
   ]
  },
  {
   "cell_type": "markdown",
   "metadata": {},
   "source": [
    "## 2 - Acertando o modelo"
   ]
  },
  {
   "cell_type": "markdown",
   "metadata": {},
   "source": [
    "A força de arraste, $F_a$, é o que diferencia o modelo atual do anterior. Seja $\\gamma$ o coeficiente de amortecimento. A força de arraste é então dada por $F_a = -m\\gamma v$, de modo que a equação de movimento se torna\n",
    "\n",
    "$$\\begin{align}\n",
    "m\\dot v &= -m\\gamma v + F(t)\\\\ \\\\\n",
    "\\large \\dot v &= -\\gamma v + \\frac{F(t)}{m} \\tag{5}\\end{align}$$\n",
    "\n",
    "A eq. (5) é uma equação diferencial em $v$. Note que $u(t)e^{-\\gamma t}$ é solução: \n",
    "\n",
    "$$v(t) = u(t)e^{-\\gamma t}\\tag{6}$$ \n",
    "\n",
    "Derivando a eq. (6), temos:\n",
    "\n",
    "$$\\frac{dv(t)}{dt} = -\\gamma u(t)e^{-\\gamma t} + \\frac{du(t)}{dt}e^{-\\gamma t} \\tag{7}$$\n",
    "\n",
    "Substituindo a eq. (7) e (6) na eq. (5), \n",
    "\n",
    "$$\\begin{align}\n",
    "-\\gamma u(t)e^{-\\gamma t}+\\frac{du(t)}{dt}e^{-\\gamma t} &= -\\gamma u(t)e^{-\\gamma t} + \\frac{F(t)}{m} \\\\ \\\\\n",
    "\\frac{du(t)}{dt}e^{-\\gamma t} &= \\frac{F(t)}{m} \\\\ \\\\\n",
    "\\frac{du(t)}{dt} &= \\frac{F(t)}{m}e^{\\gamma t}\n",
    "\\end{align}$$\n",
    "\n",
    "Integrando a equação anterior, temos\n",
    "\n",
    "$$\\int_{u_0}^{u}du' = \\frac{1}{m}\\int_{0}^{t}dt' F(t')e^{\\gamma t'} \\Leftrightarrow u(t) = u_0 + \\frac{1}{m}\\int_{0}^{t}dt' F(t')e^{\\gamma t'}$$\n",
    "\n",
    "Colocando $u(t)$ em $v(t) = u(t)e^{-\\gamma t}$:\n",
    "\n",
    "$$v(t) = u_0e^{-\\gamma t} + \\frac{e^{-\\gamma t}}{m}\\int_{0}^{t} dt' F(t') e^{\\gamma t'}$$\n",
    "\n",
    "Note que $v_0 = u_0e^0 = u_0$. Portanto, a solução de $\\dot v = -\\gamma v + \\frac{F(t)}{m}$ é\n",
    "\n",
    "$$\\large v(t) = v_0 e^{-\\gamma t} + \\frac{e^{-\\gamma t}}{m}\\int_{0}^{t} dt' F(t') e^{\\gamma t'} \\tag{8}$$"
   ]
  },
  {
   "cell_type": "markdown",
   "metadata": {},
   "source": [
    "### 2.1 - Velocidade média"
   ]
  },
  {
   "cell_type": "markdown",
   "metadata": {},
   "source": [
    "Ao tomarmos a média total da eq. (8), temos\n",
    "\n",
    "$$\\begin{align}\n",
    "\\overline{v(t)} &= \\overline{v_0e^{-\\gamma t}} + \\overline{\\frac{e^{-\\gamma t}}{m}\\int_{0}^{t} dt' F(t')e^{\\gamma t'}}\\\\ \\\\\n",
    "\\overline{v(t)} &= v_0e^{-\\gamma t} + \\frac{e^{-\\gamma t}}{m}\\int_{0}^{t} dt' \\overline{F(t')}e^{\\gamma t'}\n",
    "\\end{align}$$\n",
    "\n",
    "Lembre-se, entretanto, que $\\overline{F(t)} = 0$. Como já argumentamos, $\\overline{F(t)} \\neq 0$ significaria que a partícula de interesse poderia ser acelerada indefinidamente numa direção, de modo a sair do recipiente ou chocar com sua parede. Usando esse fato,\n",
    "\n",
    "$$\\begin{align}\n",
    "\\overline{v(t)} = v_0e^{-\\gamma t} \\tag{9}\n",
    "\\end{align}$$\n",
    "\n",
    "O que faz sentido físico, pois $t \\rightarrow \\infty \\implies \\large \\overline{v(t)} = 0$."
   ]
  },
  {
   "cell_type": "markdown",
   "metadata": {},
   "source": [
    "### 2.2 - Velocidade quadrática média"
   ]
  },
  {
   "cell_type": "markdown",
   "metadata": {},
   "source": [
    "Quadrando a equação $v(t) = v_0 e^{-\\gamma t} + \\frac{e^{-\\gamma t}}{m}\\int_{0}^{t} dt' F(t') e^{\\gamma t'}$, chegamos a \n",
    "\n",
    "$$v^2(t) = v_0^2 e^{-2\\gamma t} + \\frac{e^{-2\\gamma t}}{m^2}\\int_{0}^{t}dt_1\\int_{0}^{t}dt_2 F(t_1)F(t_2)e^{\\gamma(t_1+t_2)}$$\n",
    "\n",
    "Ao tomar a média, \n",
    "\n",
    "$$\\overline{v^2(t)} = v_0^2 e^{-2\\gamma t} + \\frac{e^{-2\\gamma t}}{m^2}\\int_{0}^{t}dt_1\\int_{0}^{t}dt_2 \\overline{F(t_1)F(t_2)} e^{\\gamma(t_1+t_2)} \\tag{10}$$\n",
    "\n",
    "Vamos impor a $F(t)$ a seguinte propriedade:\n",
    "\n",
    "$$\\overline{F(t_1)F(t_2)} = \\Gamma \\delta(t_1 - t_2)$$\n",
    "\n",
    "Ela diz que não há correlação entre uma força e a seguinte. Isso não é verdade para líquidos, pois existem correlações hidrodinâmicas. No entanto, acaba sendo uma aproximação conveniente do ponto de vista matemático. Quanto maior a massa da partícula de interesse em relação às demais, melhor é essa aproximação. \n",
    "\n",
    "Aplicando essa propriedade na eq. (10), temos\n",
    "\n",
    "$$\\begin{align}\n",
    "\\overline{v^2(t)} &= v_0^2 e^{-2\\gamma t} + \\frac{\\Gamma e^{-2\\gamma t}}{m^2}\\int_{0}^{t}dt_1 e^{2\\gamma t_1} \\\\ \\\\\n",
    "&= v_0^2 e^{-2\\gamma t} + \\frac{\\Gamma e^{-2\\gamma t}}{2 m^2 \\gamma}(e^{2\\gamma t} - 1) \\\\ \\\\\n",
    "&= v_0^2 e^{-2\\gamma t} + \\frac{\\Gamma}{2 m^2 \\gamma}(1 - e^{-2\\gamma t}) \\\\ \\\\\n",
    "&= \\frac{\\Gamma}{2m^2 \\gamma} + \\bigg(v_0^2 - \\frac{\\Gamma}{2m^2 \\gamma}\\bigg)e^{-2\\gamma t} \\tag{11}\n",
    "\\end{align}$$"
   ]
  },
  {
   "cell_type": "markdown",
   "metadata": {},
   "source": [
    "### 2.3 - Relação de flutuação-dissipação "
   ]
  },
  {
   "cell_type": "markdown",
   "metadata": {},
   "source": [
    "Olhando para a eq. (11), \n",
    "\n",
    "$$t \\rightarrow \\infty \\implies \\langle v^2(t) \\rangle = \\frac{\\Gamma}{2m^2\\gamma} \\tag{12}$$\n",
    "\n",
    "No entanto, do teorema da equipartição da energia, sabemos que \n",
    "\n",
    "$$\\langle v^2(t) \\rangle = \\frac{K_bT}{m} \\tag{13}$$\n",
    "\n",
    "onde $K_b$ é a constante de Boltzmann, $T$ a temperatura do fluido e $m$ a massa da partícula de interesse.\n",
    "\n",
    "Igualando eq. (12) e eq.(13), temos uma relação entre $\\Gamma$ e a temperatura:\n",
    "\n",
    "$$\\frac{\\Gamma}{2m^2 \\gamma} = \\frac{K_bT}{m} \\Leftrightarrow \\large \\Gamma = 2m\\gamma K_b T \\tag{14}$$\n",
    "\n",
    "A eq. (14) é conhecida como a **relação flutuação-dissipação** e está presente em diversos desenvolvimentos da dinâmica estocástica."
   ]
  },
  {
   "cell_type": "markdown",
   "metadata": {},
   "source": [
    "### 2.4 - Deslocamento médio"
   ]
  },
  {
   "cell_type": "markdown",
   "metadata": {},
   "source": [
    "Agora queremos calcular uma grandeza que realmente possamos medir num experimento. Para isso, vamos obter uma expressão para o deslocamento $x(t)$ integrando $v(t)$ no tempo. \n",
    "\n",
    "$$x(t) = x_0 + \\int_{0}^{t}dt'v(t') \\tag{15}$$\n",
    "\n",
    "Lembrando que já temos a eq. (8) para $v(t)$:\n",
    "\n",
    "$$v(t) = v_0 e^{-\\gamma t} + \\frac{e^{-\\gamma t}}{m}\\int_{0}^{t} dt' F(t') e^{\\gamma t'}$$\n",
    "\n",
    "Substituindo na eq. (15), \n",
    "\n",
    "$$\\begin{align}\n",
    "x(t) &= x_0 + v_0\\int_{0}^{t}dt'e^{-\\gamma t'} + \\frac{1}{m}\\int_{0}^{t}dt_1 e^{-\\gamma t_1}\\int_{0}^{t_1} dt_2 F(t_2) e^{\\gamma t_2} \\\\ \\\\\n",
    "&= x_0 - \\frac{v_0}{\\gamma}\\big(e^{-\\gamma t} - 1\\big) + \\frac{1}{m}\\int_{0}^{t}dt_1 e^{-\\gamma t_1}\\int_{0}^{t_1} dt_2 F(t_2) e^{\\gamma t_2} \\\\ \\\\\n",
    "&= x_0 + \\frac{v_0}{\\gamma}\\big(1 - e^{-\\gamma t}\\big) + \\frac{1}{m}\\int_{0}^{t}dt_1 e^{-\\gamma t_1}\\int_{0}^{t_1} dt_2 F(t_2) e^{\\gamma t_2} \n",
    "\\end{align}$$\n",
    "\n",
    "Como não sabemos integrar uma função composta por $F(t)$, vamos trocar a ordem de integração. \n",
    "\n",
    "Calcularemos a integral da forma exibida na imagem a seguir.\n",
    "\n",
    "<img src=\"../Imagens/Integral_t1_t2.jpeg\" width=400>\n",
    "\n",
    "$$\\begin{align}\n",
    "x(t) &= x_0 + \\frac{v_0}{\\gamma}\\big(1 - e^{-\\gamma t}\\big) + \\frac{1}{m}\\int_{0}^{t}dt_2 F(t_2) e^{\\gamma t_2}\\int_{t_2}^{t} dt_1 e^{-\\gamma t_1} \\\\ \\\\\n",
    "&= x_0 + \\frac{v_0}{\\gamma}\\big(1 - e^{-\\gamma t}\\big) + \\frac{1}{\\gamma m}\\int_{0}^{t}dt_2 F(t_2) e^{\\gamma t_2}\\big(e^{-\\gamma t_2} - e^{-\\gamma t}\\big) \\\\ \\\\\n",
    "&= x_0 + \\frac{v_0}{\\gamma}\\big(1 - e^{-\\gamma t}\\big) + \\frac{1}{\\gamma m}\\int_{0}^{t}dt_2 F(t_2)\\big(1 - e^{\\gamma (t_2 - t)}\\big)\n",
    "\\end{align}$$\n",
    "\n",
    "Tomando a média total, obtemos\n",
    "\n",
    "$$\\overline{x(t)} = \\overline{x_0} + \\overline{\\frac{v_0}{\\gamma}\\big(1 - e^{-\\gamma t}\\big)} + \\frac{1}{\\gamma m}\\overline{\\int_{0}^{t}dt_2 F(t_2) (1 - e^{\\gamma (t_2 - t)}\\big)}$$\n",
    "\n",
    "$$= x_0 + \\frac{v_0}{\\gamma}\\big(1 - e^{-\\gamma t}\\big) + \\frac{1}{\\gamma m}\\int_{0}^{t}dt_2 \\overline{F(t_2)} (1 - e^{\\gamma (t_2 - t)}\\big)$$\n",
    "\n",
    "Mas $\\overline{F(t)} = 0$, portanto\n",
    "\n",
    "$$\\overline{x(t)} = x_0 + \\frac{v_0}{\\gamma}\\big(1 - e^{-\\gamma t}\\big) \\tag{16}$$"
   ]
  },
  {
   "cell_type": "markdown",
   "metadata": {},
   "source": [
    "### 2.5 Deslocamento quadrático médio"
   ]
  },
  {
   "cell_type": "markdown",
   "metadata": {},
   "source": [
    "$$\\begin{align}\n",
    "x - \\overline{x} &= x_0 + \\frac{v_0}{\\gamma}\\big(1 - e^{-\\gamma t}\\big) + \\frac{1}{\\gamma m}\\int_{0}^{t}dt_2 F(t_2)\\big(1 - e^{\\gamma (t_2 - t)}\\big) - x_0 - \\frac{v_0}{\\gamma}\\big(1 - e^{-\\gamma t}\\big) \\\\ \\\\\n",
    "&= \\frac{1}{\\gamma m}\\int_{0}^{t}dt_2 F(t_2)\\big(1 - e^{\\gamma (t_2 - t)}\\big)\n",
    "\\end{align}$$\n",
    "\n",
    "Ao tomar o quadrado da equação acima, chegamos a\n",
    "\n",
    "$$\\big(x - \\overline{x}\\big)^2 = \\frac{1}{\\gamma^2 m^2}\\int_{0}^{t}dt_1\\int_{0}^{t}dt_2 F(t_1)F(t_2)\\big(1 - e^{\\gamma (t_1 - t)}\\big)\\big(1 - e^{\\gamma (t_2 - t)}\\big)$$\n",
    "\n",
    "Cuja média é\n",
    "\n",
    "$$\\overline{\\big(x - \\overline{x}\\big)^2} = \\frac{1}{\\gamma^2 m^2}\\int_{0}^{t}dt_1\\int_{0}^{t}dt_2\\overline{ F(t_1)F(t_2)}\\big(1 - e^{\\gamma (t_1 - t)}\\big)\\big(1 - e^{\\gamma (t_2 - t)}\\big)$$\n",
    "\n",
    "Usando a propriedade de correlação $\\overline{F(t_1)F(t_2)} = \\Gamma \\delta(t_1 - t_2)$:\n",
    "\n",
    "$$\\overline{\\big(x - \\overline{x}\\big)^2} = \\frac{\\Gamma}{\\gamma^2 m^2}\\int_{0}^{t}dt_1\\big(1 - e^{\\gamma (t_1 - t)}\\big)^2$$\n",
    "\n",
    "Ao calcular a integral, \n",
    "\n",
    "$$\\overline{\\big(x - \\overline{x}\\big)^2} = \\frac{\\Gamma}{\\gamma^2 m^2}\\bigg(t + \\frac{1}{2\\gamma}\\big(1 - e^{-2\\gamma t}\\big) - \\frac{2}{\\gamma}\\big(1 - e^{-\\gamma t} \\big)\\bigg)$$\n",
    "\n",
    "Para longos períodos de tempo, o primeiro termo domina e temos \n",
    "$$\\overline{\\big(x - \\overline{x}\\big)^2} \\approx 2Dt,$$\n",
    "onde $D = \\frac{\\Gamma}{2\\gamma^2 m^2}$ é o coeficiente de difusão.\n",
    "\n",
    "Ao substituir a eq. (12) \n",
    "$$\\overline{v^2(t)} = \\frac{\\Gamma}{2m^2 \\gamma}$$\n",
    "em $D$, temos uma equação que relaciona o coeficiente de difusão com a temperatura:\n",
    "\n",
    "$$\\large D = \\frac{K_b}{m\\gamma}T \\large \\tag{17}$$\n",
    "\n",
    "A equação acima diz que quanto maior for a temperatura, maior será a difusão da partícula, o que faz sentido físico!\n",
    "\n",
    "Essa mesma relação havia sido obtida independentemente por Sutherland (1904), Einstein (1905) e Smoluchowski (1906) em seus trabalhos sobre o movimento browniano. O modelo de Langevin leva ao mesmo resultado, porém com uma metodologia bem menos complicada."
   ]
  },
  {
   "cell_type": "markdown",
   "metadata": {},
   "source": [
    "## 3 - Conclusão"
   ]
  },
  {
   "cell_type": "markdown",
   "metadata": {},
   "source": [
    "O movimento browniano tem grande relevância na história da física, sendo o gatilho para a aceitação da hipótese atômica, hoje amplamente aceita pela comunidade científica. Além disso, várias abordagens atuais em problemas de dinâmica estocástica fazem uso dos modelos fundamentais que descrevem o movimento browniano.\n",
    "\n",
    "Neste trabalho, desenvolvemos o modelo de Langevin para a descrição do movimento browniano. No processo, vimos que era essencial considerar a força de arraste e, ao fazer isso, obtivemos que $t \\rightarrow \\infty \\implies \\langle v(t) \\rangle = 0$, resultado conhecido e esperado. Chegamos também à relação de flutuação-dissipação. Ainda mais importante, contudo, foi o fato de recuperarmos os resultados de Sutherland (1904), Einstein (1905) e Smoluchowski (1906) para o coeficiente de difusão. Isso tudo foi feito através de um método bem mais simples do que os demais disponíveis."
   ]
  },
  {
   "cell_type": "markdown",
   "metadata": {},
   "source": [
    "## 4 - Bibliografia"
   ]
  },
  {
   "cell_type": "markdown",
   "metadata": {},
   "source": [
    "    - LANGEVIN, Paul - \"Sur la théorie du mouvement Brownien\";\n",
    "    - TOMÉ, T.; OLIVEIRA, M. - Dinâmica Estocástica e Irreversibilidade;\n",
    "    - VAN VLIET, Carolyne - Equilibrium and Non-equilibrium Statistical Mechanics; \n",
    "    - JACOBS, Kurt - Stochastic Processes for Physicists: Understanding Noisy Systems."
   ]
  }
 ],
 "metadata": {
  "anaconda-cloud": {},
  "kernelspec": {
   "display_name": "Python 3",
   "language": "python",
   "name": "python3"
  },
  "language_info": {
   "codemirror_mode": {
    "name": "ipython",
    "version": 3
   },
   "file_extension": ".py",
   "mimetype": "text/x-python",
   "name": "python",
   "nbconvert_exporter": "python",
   "pygments_lexer": "ipython3",
   "version": "3.5.4"
  }
 },
 "nbformat": 4,
 "nbformat_minor": 2
}
