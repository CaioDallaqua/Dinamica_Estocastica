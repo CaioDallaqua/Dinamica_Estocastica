{
 "cells": [
  {
   "cell_type": "markdown",
   "metadata": {},
   "source": [
    "# Movimento Browniano com Equações de Langevin"
   ]
  },
  {
   "cell_type": "markdown",
   "metadata": {},
   "source": [
    "## Introdução Teórica "
   ]
  },
  {
   "cell_type": "markdown",
   "metadata": {},
   "source": [
    "Podemos simular o movimento de uma partícula imersa num fluido, também chamado de movimento browniano, usando o modelo de Langevin. De acordo com Langevin, o movimento de uma partícula imersa num fluido pode ser visto como o resultado de duas forças atuando na partícula: uma dissipativa, geralmente proporcional e contrária à velocidade, e outra de caráter aleatório - oriunda das colisões com as demais partículas do fluido.\n",
    "\n",
    "$$m\\frac{dv}{dt} = -\\gamma v + F(t) \\tag{1}$$\n",
    "\n",
    "Trataremos a velocidade $v$ como escalar, pois a simulação será para uma dimensão.\n",
    "\n",
    "$ F(t) $ é a força aleatória e possui as seguintes propriedades:\n",
    "\n",
    "- $ P_1 $: $\\langle F(t) \\rangle = 0 $\n",
    "- $ P_2 $: $ \\langle F(t) F(t + \\tau) \\rangle = \\langle F^2(t) \\rangle \\delta(\\tau), \\tau \\gt 0 $\n",
    "\n",
    "$P_2$ diz que não há correlação entre uma força e a seguinte. Isso não é verdade para líquidos, pois existem correlações hidrodinâmicas. No entanto, acaba sendo uma aproximação conveniente do ponto de vista matemático. Quanto maior a massa da partícula de interesse em relação às demais, melhor é essa aproximação. \n",
    "\n",
    "Como $ m \\neq 0$, podemos dividir a Eq.(1) por $m$:\n",
    "\n",
    "$\\frac{dv}{dt} = -\\alpha v + \\zeta(t) \\tag{2}$ sendo $\\zeta(t) = \\frac{F(t)}{m}$ e $\\alpha = \\frac{\\gamma}{m}$"
   ]
  },
  {
   "cell_type": "markdown",
   "metadata": {},
   "source": [
    "### Discretização das velocidades"
   ]
  },
  {
   "cell_type": "markdown",
   "metadata": {},
   "source": [
    "Para fazermos simulações computacionais, precisamos discretizar o tempo, pois os computadores não são capazes de representar todo o espaço dos números reais. Fazendo $t = n\\tau$, $n \\in \\mathbb{N}$, podemos escrever a Eq.(2) de forma aproximada:\n",
    "\n",
    "$ v_{n+1} = a v_n + \\sqrt{\\tau \\Gamma} \\xi \\tag{3}$ com $ \\Gamma = 2\\alpha K_b T / m$\n",
    "\n",
    "A relação da velocidade com a temperatura vem da Teoria Cinética dos Gases e pode ser vista detalhadamente em TOMÉ, T.; OLIVEIRA, M. - Dinâmica Estocástica e Irreversibilidade, Edusp."
   ]
  },
  {
   "cell_type": "markdown",
   "metadata": {},
   "source": [
    "### Distribuição teórica das velocidades "
   ]
  },
  {
   "cell_type": "markdown",
   "metadata": {},
   "source": [
    "Uma densidade de probabilidade da variável $v_n$ é obtida pela transformada inversa de Fourier, resultando no seguinte:\n",
    "\n",
    "\n",
    "$ P_n(v_n) = \\frac{1}{\\sqrt{2 \\pi b_n}}exp\\biggl({\\frac{-v_n^2}{2 b_n}}\\biggr) \\tag{4}$ onde $ b_n = \\frac{1-a^{2n}}{1-a^2}\\tau \\Gamma$ e $a = 1 - \\tau \\gamma$"
   ]
  },
  {
   "cell_type": "markdown",
   "metadata": {},
   "source": [
    "### Discretização das posições "
   ]
  },
  {
   "cell_type": "markdown",
   "metadata": {},
   "source": [
    "Tendo as velocidades, podemos obter as equações de posição usando $v = \\frac{dx}{dt}$. Note que $ \\langle F(t) F(t + \\tau) \\rangle = \\langle F^2(t) \\rangle \\delta(\\tau)$ indica que $v$ não depende de $x$, isso significa que $v = \\frac{dx}{dt}$ é uma equação diferencial separável e, portanto, podemos resolvê-la para x. Em seguida, discretizamos e obtemos:\n",
    "\n",
    "$x_{n+1} = x_n + \\tau v_n \\tag{3}$\n",
    "\n",
    "Agora podemos começar a simular o movimento browniano computacionalmente com Langevin."
   ]
  },
  {
   "cell_type": "markdown",
   "metadata": {},
   "source": [
    "## Simulação "
   ]
  },
  {
   "cell_type": "markdown",
   "metadata": {},
   "source": [
    "Para a simulação do movimento browniano em uma dimensão, usaremos a linguagem de programação Python.\n",
    "\n",
    "Na célula abaixo, importamos módulos, funções e constantes que usaremos na simulação."
   ]
  },
  {
   "cell_type": "code",
   "execution_count": 3,
   "metadata": {
    "collapsed": true
   },
   "outputs": [],
   "source": [
    "import numpy as np                         # Pacote para computação científica\n",
    "from math import sqrt, exp, pi             # Funções úteis de matemática e pi\n",
    "from matplotlib import pyplot as plt       # Módulo para a criação de gráficos"
   ]
  },
  {
   "cell_type": "markdown",
   "metadata": {},
   "source": [
    "Apenas por conveniência, será feito o uso de um comando interno do Jupyter. Esse comando exibirá automaticamente os gráficos, sem a necessidade de chamar uma função para isso toda vez que quisermos plotar algo."
   ]
  },
  {
   "cell_type": "code",
   "execution_count": 30,
   "metadata": {
    "collapsed": true
   },
   "outputs": [],
   "source": [
    "# Comando para exibir gráficos automaticamente\n",
    "%matplotlib inline                         "
   ]
  },
  {
   "cell_type": "markdown",
   "metadata": {},
   "source": [
    "### Simulação das Velocidades "
   ]
  },
  {
   "cell_type": "markdown",
   "metadata": {},
   "source": [
    "Como condições iniciais, escolheremos $x(0) = 0$ e $v(0) = 0$.\n",
    "\n",
    "<b>Simul</b> é a principal função de toda a simulação. Através da abordagem descrita anteriormente, ela faz com que um número de partículas (<b>numPart</b>) seja simulado num movimento browniano unidimensional por <b>N</b> unidades de tempo <b>tau</b>."
   ]
  },
  {
   "cell_type": "code",
   "execution_count": 31,
   "metadata": {
    "collapsed": true
   },
   "outputs": [],
   "source": [
    "'''\n",
    "    ================================================================================\n",
    "    Nome:       Simul, de simulação.\n",
    "    ================================================================================\n",
    "    Descrição:  Realiza a simulação do movimento browniano unidimensional\n",
    "                através do modelo de Langevin, tendo x(0) = 0 = v(0)\n",
    "                como condições iniciais.         \n",
    "    ================================================================================\n",
    "    Parâmetros: \n",
    "                - numPart: Número de partículas da simulação. \n",
    "                           Padrão = 100.\n",
    "                           \n",
    "                - N:       Número de unidades de tempo. \n",
    "                           Padrão = 10**5\n",
    "                           \n",
    "                - KbT:     Constante de Boltzmann vezes Temperatura Absoluta.\n",
    "                           Padrão = 1.0\n",
    "                \n",
    "                - m:       Massa da partícula de interesse.\n",
    "                           Padrão = 1.0\n",
    "                           \n",
    "                - gamma:   Coeficiente de amortecimento em fluido.\n",
    "                           Padrão 1.0\n",
    "                        \n",
    "                - tau:     Unidade de tempo da simulação.\n",
    "                           Padrão = 0.1\n",
    "    ================================================================================\n",
    "'''\n",
    "def Simul(numPart=100, N=10**5, KbT=1., m=1., gamma=1., tau=.1):\n",
    "    \n",
    "    # Constantes apresentadas no desenvolvimento\n",
    "    a, Gamma = 1 - tau*gamma, 2*gamma*KbT/m\n",
    "    # V: velocidades em cada instante, Vs: todas as velocidades\n",
    "    V, Vs = np.zeros(numPart), np.zeros([N, numPart])               \n",
    "    # X: posições em cada instante, Xs: todas as posições\n",
    "    X, Xs = np.zeros(numPart), np.zeros([N//10, numPart])             \n",
    "    \n",
    "    # N-1 iterações da simulação\n",
    "    for i in range(1, N):\n",
    "        # Gera uma força aleatória para cada partícula\n",
    "        F = (-1)**np.random.randint(0, 2, size=numPart)\n",
    "        # Calcula e armazena temporariamente as velocidades\n",
    "        V = a*V + F*sqrt(tau*Gamma)/m\n",
    "        # Calcula e armazena temporariamente as posições\n",
    "        X += V*tau\n",
    "        # Armazena as velocidades \"definitivamente\"\n",
    "        Vs[i] = V\n",
    "        # Pega uma posição a cada 10 unidades de tempo\n",
    "        if i%10 == 0:\n",
    "            # Armazena as posições \"definitivamente\"\n",
    "            Xs[i//10] = X\n",
    "            \n",
    "    # Retorna velocidades e posições armazenadas\n",
    "    return (Vs, Xs)"
   ]
  },
  {
   "cell_type": "markdown",
   "metadata": {},
   "source": [
    "No <b>for</b> acima, fazemos <b>range(1, N)</b> para não sobrepor as condições iniciais - o que aconteceria por causa do <b>if</b>. Poderíamos ter contornado de outras maneiras, naturalmente."
   ]
  },
  {
   "cell_type": "markdown",
   "metadata": {},
   "source": [
    "Agora vamos testar a função <b>Simul</b> para <b>2000</b> partículas e guardar os dados para a plotagem dos gráficos."
   ]
  },
  {
   "cell_type": "code",
   "execution_count": 101,
   "metadata": {
    "collapsed": true
   },
   "outputs": [],
   "source": [
    "Vs, Xs = Simul(numPart = 2000)"
   ]
  },
  {
   "cell_type": "markdown",
   "metadata": {},
   "source": [
    "Abaixo definimos <b>PlotaVel</b> para criar os gráficos das velocidades. Essa função não foi feita para propósitos genéricos."
   ]
  },
  {
   "cell_type": "code",
   "execution_count": 102,
   "metadata": {
    "collapsed": true
   },
   "outputs": [],
   "source": [
    "def PlotaVel():\n",
    "    # Auxilia na plotagem da FDP teórica\n",
    "    Aux = np.arange(-4, 4, .05)\n",
    "    # Calcula FDP teórica com base em Aux\n",
    "    P = np.exp(-Aux**2/2)*sqrt(1/(2*pi))\n",
    "    # Plota histograma das velocidades\n",
    "    plt.hist(Vs.flatten(), 100, color='g', density=True, label='Simulação')\n",
    "    # Plota FDP teórica para as velocidades\n",
    "    plt.plot(Aux, P, label = 'FDP teórica', linewidth=3, color='r')\n",
    "    \n",
    "    # Bloco de estilização\n",
    "    plt.title('Distribuição de Velocidades', fontsize=20)\n",
    "    plt.xlabel('Velocidade (m/s)')\n",
    "    plt.ylabel('Probabilidade')\n",
    "    plt.ylim(0,0.45)\n",
    "    plt.legend(loc='best')\n",
    "    plt.text(2, .2, 'numPart=2000 \\nN=10**5')"
   ]
  },
  {
   "cell_type": "markdown",
   "metadata": {},
   "source": [
    "Hora de ver os resultados da simulação para as velocidades :)"
   ]
  },
  {
   "cell_type": "code",
   "execution_count": 103,
   "metadata": {},
   "outputs": [
    {
     "data": {
      "image/png": "[encoded data removed]",
      "text/plain": [
       "<matplotlib.figure.Figure at 0x7f453ba6b978>"
      ]
     },
     "metadata": {},
     "output_type": "display_data"
    }
   ],
   "source": [
    "PlotaVel()"
   ]
  },
  {
   "cell_type": "markdown",
   "metadata": {},
   "source": [
    "Agora definimos <b>PlotaPos</b> para os gráficos de posição. Novamente, não foi pensada para propósito genérico."
   ]
  },
  {
   "cell_type": "code",
   "execution_count": 116,
   "metadata": {
    "collapsed": true
   },
   "outputs": [],
   "source": [
    "def PlotaPos():\n",
    "    # Plota histograma das posições\n",
    "    plt.hist(Xs.flatten(), 100, color='b', density=True, label='Simulação')\n",
    "    \n",
    "    # Bloco de estilização\n",
    "    plt.title('Distribuição de Posições', fontsize=20)\n",
    "    plt.xlabel('Posição m')\n",
    "    plt.ylabel('Probabilidade')\n",
    "    plt.legend(loc='best')\n",
    "    plt.text(220, .002, 'numPart=2000 \\nN=10**5')"
   ]
  },
  {
   "cell_type": "markdown",
   "metadata": {},
   "source": [
    "E o histograma das posições fica:"
   ]
  },
  {
   "cell_type": "code",
   "execution_count": 117,
   "metadata": {},
   "outputs": [
    {
     "data": {
      "image/png": "[encoded data removed]",
      "text/plain": [
       "<matplotlib.figure.Figure at 0x7f453bf994a8>"
      ]
     },
     "metadata": {},
     "output_type": "display_data"
    }
   ],
   "source": [
    "PlotaPos()"
   ]
  },
  {
   "cell_type": "markdown",
   "metadata": {},
   "source": [
    "Como é de se esperar, a suavidade do histograma de posições aumenta conforme introduzimos mais tempo ou partículas.\n",
    "\n",
    "Ele não acompanha a suavidade do histograma de velocidades pelo fato de armazenarmos as posições de 10 em 10. Se não armazenássemos dessa forma, precisaríamos de números muito maiores para ter a distribuição bem definida."
   ]
  },
  {
   "cell_type": "markdown",
   "metadata": {
    "collapsed": true
   },
   "source": [
    "## Conclusão "
   ]
  },
  {
   "cell_type": "markdown",
   "metadata": {},
   "source": [
    "Por ser uma abordagem sem muitas complicações teóricas ou práticas, os resultados foram satisfatórios para a velocidade. No entanto, o histograma de posições ainda carece de checagem teórica.\n",
    "\n",
    "Futuramente, podemos fazer a mesma simulação tendo como foco o desempenho, já que isso nos permitiria obter uma distribuição de posições melhor - e num tempo razoável."
   ]
  }
 ],
 "metadata": {
  "anaconda-cloud": {},
  "kernelspec": {
   "display_name": "Python 3",
   "language": "python",
   "name": "python3"
  },
  "language_info": {
   "codemirror_mode": {
    "name": "ipython",
    "version": 3
   },
   "file_extension": ".py",
   "mimetype": "text/x-python",
   "name": "python",
   "nbconvert_exporter": "python",
   "pygments_lexer": "ipython3",
   "version": "3.5.4"
  }
 },
 "nbformat": 4,
 "nbformat_minor": 2
}
