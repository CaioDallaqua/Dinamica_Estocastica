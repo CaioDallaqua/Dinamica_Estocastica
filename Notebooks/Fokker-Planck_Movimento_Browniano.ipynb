{
 "cells": [
  {
   "cell_type": "markdown",
   "metadata": {},
   "source": [
    "# Equação de Fokker-Planck para o Movimento Browniano"
   ]
  },
  {
   "cell_type": "markdown",
   "metadata": {},
   "source": [
    "**Autor**: Caio Dallaqua\n",
    "\n",
    "**Orientador**: Gastão Krein, IFT-Unesp\n",
    "\n",
    "**Sumário**:\n",
    "\n",
    "- [0 - Introdução](#0---Introdução)\n",
    "- [1 - Espaço de Velocidades](#1---Espaço-de-Velocidades)\n",
    "- [2 - Modelagem](#2---Modelagem)\n",
    "- [3 - Função Densidade de Probabilidade](#3---Função-Densidade-de-Probabilidade)\n",
    "- [4 - Derivada Parcial no Tempo](#4---Derivada-Parcial-no-Tempo)\n",
    "    + 4.1 - Obtendo $h_1$\n",
    "    + 4.2 - Obtendo $h_2$\n",
    "- [5 - Equação de Fokker e Planck para o Movimento Browniano](#5---Equação-de-Fokker-e-Planck-para-o-Movimento-Browniano)\n",
    "- [6 - Referências](#6---Referências)"
   ]
  },
  {
   "cell_type": "markdown",
   "metadata": {},
   "source": [
    "## 0 - Introdução "
   ]
  },
  {
   "cell_type": "markdown",
   "metadata": {},
   "source": [
    "A equação de Fokker-Planck é uma [**Equação Diferencial Parcial**](http://conteudo.icmc.usp.br/Portal/conteudoDinamicoSemVinculo.php?id_conteudos=448) que dita como a densidade de probabilidade de uma certa classe de [**Equações Diferenciais Estocásticas**](http://reference.wolfram.com/language/guide/StochasticDifferentialEquationProcesses.html) evolui no tempo."
   ]
  },
  {
   "cell_type": "markdown",
   "metadata": {},
   "source": [
    "Neste documento, deduziremos a equação de Fokker-Planck para o movimento browniano. Existem diversas formas de deduzir essa equação e aqui faremos isso com a abordagem desenvolvida por Uhlenbeck e Salomon. Em 1930, George Eugene Uhlenbeck e Leonard Salomon Ornstein publicaram um artigo na Physical Review com o título [**On the theory of Brownian motion**](https://journals.aps.org/pr/abstract/10.1103/PhysRev.36.823), onde a equação de Fokker-Planck é deduzida para uma dimensão. Estaremos utilizando essa mesma abordagem, só que de forma expandida para três dimensões."
   ]
  },
  {
   "cell_type": "markdown",
   "metadata": {},
   "source": [
    "Anteriormente, vimos uma equação que permitia a descrição do movimento browniano, a Equação de Langevin\n",
    "\n",
    "$$\n",
    "         m\\frac{d\\vec{v}(t)}{dt} = -\\gamma \\vec{v}(t) + \\vec{F}(t) \\tag{1}\n",
    "$$\n",
    "\n",
    "Ela está na classe de Equações Diferenciais Estocásticas que possui uma Fokker-Planck associada. Então, para entender melhor sistemas descritos por Langevin, vamos deduzir a tal Equação de Fokker-Planck."
   ]
  },
  {
   "cell_type": "markdown",
   "metadata": {},
   "source": [
    "## 1 - Espaço de Velocidades"
   ]
  },
  {
   "cell_type": "markdown",
   "metadata": {},
   "source": [
    "Suponha um espaço tridimensional de velocidades, como exibido na imagem abaixo. Utilizando um sistema de coordenadas ortogonal, podemos decompor um vetor $\\vec{v}$ desse espaço em suas componentes.\n",
    "\n",
    "<img src=\"http://nerdyard.com/wp-content/uploads/2012/03/sistema_cartesiano.png\">\n",
    "\n",
    "Um elemento infinitesimal de volume nesse espaço (em coordenadas cartesianas) é descrito por $d^3 v = dxdydz$.\n",
    "\n",
    "No contexto do movimento browniano, existem muitas moléculas do fluido interagindo com as partículas que temos interesse em estudar, então é uma aproximação razoável pensar na região do fluido como um campo contínuo de velocidades. Desse modo, teremos uma distribuição de velocidades correspondende, à qual denotamos por $P(\\vec{v_0}, \\vec{v}, t)$."
   ]
  },
  {
   "cell_type": "markdown",
   "metadata": {},
   "source": [
    "## 2 - Modelagem"
   ]
  },
  {
   "cell_type": "markdown",
   "metadata": {},
   "source": [
    "Vamos chamar de N o número total de partículas brownianas em suspensão. Agora suponha que estejamos interessados nas partículas com velocidade inicial $\\vec{v_0}$, no instante $t = 0$, e cujas velocidades em $t \\gt 0$ estejam no elemento de volume $d^3 v$. Esse número, $M$, é apenas uma fração do número total. \n",
    "\n",
    "$M$ é uma função de $\\vec{v_0}$, $\\vec{v}$ e $t$. Além disso, $M$ precisa ser proporcional a $d^3 v$, pois esse elemento de volume representa um subconjunto das velocidades possíveis e quanto maior esse subconjunto, maior tende a ser $M$. Dessa forma, \n",
    "\n",
    "$$M = N P\\big(\\vec{v_0}, \\vec{v}, t\\big) d^3 v \\tag{2}$$\n",
    "\n",
    "onde $P\\big(\\vec{v_0}, \\vec{v}, t\\big)$ é a distribuição de velocidades das partículas brownianas. Fokker-Planck dá justamente a evolução temporal da distribuição $P\\big(\\vec{v_0}, \\vec{v}, t\\big)$ ."
   ]
  },
  {
   "cell_type": "markdown",
   "metadata": {},
   "source": [
    "Devido às colisões com as moléculas do fluido, a velocidade de cada partícula browniana irá mudar com o passar do tempo. Por esse motivo, nosso intuito aqui é achar uma equação que relacione $P\\big(\\vec{v_0}, \\vec{v}, t + \\Delta t\\big)$ com $P\\big(\\vec{v_0}, \\vec{v}, t\\big)$.\n",
    "Tendo ela, podemos calcular a derivada parcial de $P$ com relação a $t$ através do limite em que $\\Delta t \\to 0$.\n",
    "\n",
    "$$\\frac{\\partial P\\big(\\vec{v_0}, \\vec{v}, t\\big)}{\\partial t} = \\lim_{\\Delta t \\to 0} \\frac{P\\big(\\vec{v_0}, \\vec{v}, t + \\Delta t\\big) - P\\big(\\vec{v_0}, \\vec{v}, t\\big)}{\\Delta t} \\tag{3}$$\n",
    "\n",
    "O resultado do limite acima fornece, portanto, a Equação Diferencial Parcial que dita a evolução de $P\\big(\\vec{v_0}, \\vec{v}, t\\big)$."
   ]
  },
  {
   "cell_type": "markdown",
   "metadata": {},
   "source": [
    "Agora, vamos usar um raciocínio similar ao que nos deu uma expressão para $M$. Queremos saber o número de partículas com velocidades em $d^3 v$, no instante $t + \\Delta t$ e com velocidades iniciais $\\vec{v_0}$.\n",
    "\n",
    "$$M' = N P\\big(\\vec{v_0}, \\vec{v}, t + \\Delta t\\big) d^3 v \\tag{4}$$\n",
    "\n",
    "Note que, por conta das colisões, se a velocidade é $\\vec{v}$ em $t + \\Delta t$, a velocidade em $t$ será diferente. \n",
    "\n",
    "$$NP\\big(\\vec{v_0}, \\vec{v} - \\vec{u}, t\\big)d^3 v$$\n",
    "\n",
    "Porém, nem todas as partículas receberam um acréscimo de $\\vec{u}$ na velocidade durante o intervalo $\\Delta t$. Isso quer dizer que M' é apenas uma fração da expressão acima. \n",
    "\n",
    "Seja $g\\big(\\vec{v} - \\vec{u}, t, \\vec{u}, \\Delta t\\big)$ a distribuição de velocidades das partículas com velocidade $\\vec{v} - \\vec{u}$, em $t$, que recebem um incremento de $\\vec{u}$ durante o intervalo $\\Delta t$. Portanto, uma parcela de M' é dada por \n",
    "\n",
    "$$N P\\big(\\vec{v_0}, \\vec{v}-\\vec{u}, t\\big) g\\big(\\vec{v} - \\vec{u}, t, \\vec{u}, \\Delta t\\big) d^3 v d^3 u \\tag{5}$$\n",
    "\n",
    "Considerar todas as contribuições para essa quantidade de $t$ até $t + \\Delta t$ equivale a integrar a expressão acima sobre todos os valores de $\\vec{u}$.\n",
    "\n",
    "$$ \\begin{align}\n",
    "N P\\big(\\vec{v_0}, \\vec{v}, t + \\Delta t\\big) d^3 v &= N d^3 v\\int_{}^{}P\\big(\\vec{v_0}, \\vec{v} - \\vec{u}, t\\big) g\\big(\\vec{v} - \\vec{u}, t, \\vec{u}, \\Delta t\\big) d^3 u \\\\ \\\\\n",
    "P\\big(\\vec{v_0}, \\vec{v}, t + \\Delta t\\big) &= \\int_{}^{}P\\big(\\vec{v_0}, \\vec{v} - \\vec{u}, t\\big) g\\big(\\vec{v} - \\vec{u}, t, \\vec{u}, \\Delta t\\big) d^3 u \\tag{6}\n",
    "\\end{align}$$"
   ]
  },
  {
   "cell_type": "markdown",
   "metadata": {},
   "source": [
    "# 3 - Função Densidade de Probabilidade"
   ]
  },
  {
   "cell_type": "markdown",
   "metadata": {},
   "source": [
    "Expandindo $P\\big(\\vec{v_0}, \\vec{v} - \\vec{u}, t\\big)$ em séries de Taylor ao redor de $\\vec{v}$:\n",
    "\n",
    "$$P\\big(\\vec{v_0}, \\vec{v} - \\vec{u}, t\\big) =  P\\big(\\vec{v_0}, \\vec{v}, t\\big) -\\bigg(\\vec{u}\\cdot\\frac{\\partial}{\\partial{\\vec{v}}}\\bigg)P\\big(\\vec{v_0}, \\vec{v}, t\\big) + \\frac{1}{2}\\bigg(\\vec{u}\\cdot \\frac{\\partial}{\\partial{\\vec{v}}}\\bigg)^2 P\\big(\\vec{v_0}, \\vec{v}, t\\big) + \\dots \\tag{7}$$\n",
    "\n",
    "O mesmo para $g\\big(\\vec{v} - \\vec{u}, t, \\vec{u}, \\Delta t\\big)$:\n",
    "\n",
    "$$g\\big(\\vec{v} - \\vec{u}, t, \\vec{u}, \\Delta t\\big) =  g\\big(\\vec{v}, t, \\vec{u}, \\Delta t\\big) -\\bigg(\\vec{u}\\cdot\\frac{\\partial}{\\partial{\\vec{v}}}\\bigg)g\\big(\\vec{v} , t, \\vec{u}, \\Delta t\\big) + \\frac{1}{2}\\bigg(\\vec{u}\\cdot \\frac{\\partial}{\\partial{\\vec{v}}}\\bigg)^2 g\\big(\\vec{v}, t, \\vec{u}, \\Delta t\\big) + \\dots \\tag{8}$$"
   ]
  },
  {
   "cell_type": "markdown",
   "metadata": {},
   "source": [
    "Multiplicando Eq.(7) e Eq.(8), temos\n",
    "\n",
    "$$\\begin{align}\n",
    "P\\big(\\vec{v_0}, \\vec{v} - \\vec{u}, t\\big)g\\big(\\vec{v} - \\vec{u}, t, \\vec{u}, \\Delta t\\big) &= P\\big(\\vec{v_0}, \\vec{v}, t\\big) g\\big(\\vec{v}, t, \\vec{u}, \\Delta t\\big) \\\\\n",
    "&- P\\big(\\vec{v_0}, \\vec{v}, t\\big)\\bigg(\\vec{u}\\cdot\\frac{\\partial}{\\partial{\\vec{v}}}\\bigg)g\\big(\\vec{v}, t, \\vec{u}, \\Delta t\\big) \\\\\n",
    "&- g\\big(\\vec{v}, t, \\vec{u}, \\Delta t\\big)\\bigg(\\vec{u}\\cdot\\frac{\\partial}{\\partial{\\vec{v}}}\\bigg)P\\big(\\vec{v_0}, \\vec{v}, t\\big) \\\\\n",
    "&+ \\frac{1}{2}P\\big(\\vec{v_0}, \\vec{v}, t\\big)\\bigg(\\vec{u}\\cdot\\frac{\\partial}{\\partial{\\vec{v}}}\\bigg)^2g\\big(\\vec{v}, t, \\vec{u}, \\Delta t\\big) \\\\\n",
    "&+ \\frac{1}{2}g\\big(\\vec{v}, t, \\vec{u}, \\Delta t\\big)\\bigg(\\vec{u}\\cdot\\frac{\\partial}{\\partial{\\vec{v}}}\\bigg)^2P\\big(\\vec{v_0}, \\vec{v}, t\\big) \\\\\n",
    "&+ \\bigg[\\bigg(\\vec{u}\\cdot\\frac{\\partial}{\\partial{\\vec{v}}}\\bigg)g\\big(\\vec{v} , t, \\vec{u}, \\Delta t\\big)\\bigg]\\bigg[\\bigg(\\vec{u}\\cdot\\frac{\\partial}{\\partial{\\vec{v}}}\\bigg)P\\big(\\vec{v_0}, \\vec{v}, t\\big)\\bigg] \\\\\n",
    "&+ \\dots \\tag{9}\n",
    "\\end{align}$$"
   ]
  },
  {
   "cell_type": "markdown",
   "metadata": {},
   "source": [
    "Substituindo esse monstrinho na Eq.(6), temos\n",
    "\n",
    "$$\\begin{align}\n",
    "P\\big(\\vec{v_0}, \\vec{v}, t + \\Delta t\\big) &= P\\big(\\vec{v_0}, \\vec{v}, t\\big)\\int_{}^{} d^3 u g\\big(\\vec{v}, t, \\vec{u}, \\Delta t\\big) \\\\\n",
    "&- P\\big(\\vec{v_0}, \\vec{v}, t\\big)\\int_{}^{} d^3 u\\bigg(\\vec{u}\\cdot\\frac{\\partial}{\\partial{\\vec{v}}}\\bigg)g\\big(\\vec{v}, t, \\vec{u}, \\Delta t\\big) \\\\\n",
    "&-\\bigg[ \\int_{}^{} d^3 u g\\big(\\vec{v}, t, \\vec{u}, \\Delta t\\big)\\vec{u}\\bigg]\\cdot\\frac{\\partial}{\\partial{\\vec{v}}}P\\big(\\vec{v_0}, \\vec{v}, t\\big) \\\\\n",
    "&+ \\frac{1}{2}P\\big(\\vec{v_0}, \\vec{v}, t\\big)\\int_{}^{}d^3 u\\bigg(\\vec{u}\\cdot\\frac{\\partial}{\\partial{\\vec{v}}}\\bigg)^2g\\big(\\vec{v}, t, \\vec{u}, \\Delta t\\big) \\\\\n",
    "&+ \\frac{1}{2}\\int_{}^{}d^3 u g\\big(\\vec{v}, t, \\vec{u}, \\Delta t\\big)\\bigg(\\vec{u}\\cdot\\frac{\\partial}{\\partial{\\vec{v}}}\\bigg)^2P\\big(\\vec{v_0}, \\vec{v}, t\\big) \\\\\n",
    "&+ \\bigg[\\int_{}^{}d^3 u\\bigg(\\vec{u}\\cdot\\frac{\\partial}{\\partial{\\vec{v}}}\\bigg)g\\big(\\vec{v} , t, \\vec{u}, \\Delta t\\big)\\vec{u} \\bigg]\\cdot\\frac{\\partial}{\\partial{\\vec{v}}}P\\big(\\vec{v_0}, \\vec{v}, t\\big) \\\\\n",
    "&+ \\dots \\tag{10}\n",
    "\\end{align}$$"
   ]
  },
  {
   "cell_type": "markdown",
   "metadata": {},
   "source": [
    " Note que, por definição, \n",
    " $$\\int_{}^{} d^3 u g\\big(\\vec{v}, t, \\vec{u}, \\Delta t\\big) = 1 \\tag{11}$$\n",
    " \n",
    " Além disso, \n",
    " \n",
    "$$\\begin{align}\n",
    "\\int_{}^{} d^3 u\\bigg(\\vec{u}\\cdot\\frac{\\partial}{\\partial{\\vec{v}}}\\bigg)g\\big(\\vec{v}, t, \\vec{u}, \\Delta t\\big) &= \\frac{\\partial}{\\partial{\\vec{v}}}\\cdot\\int_{}^{} d^3 ug\\big(\\vec{v}, t, \\vec{u}, \\Delta t\\big)\\vec{u} \\\\\n",
    "&= \\frac{\\partial}{\\partial{\\vec{v}}}\\cdot\\langle \\vec u \\rangle_v \\tag{12}\n",
    " \\end{align}$$\n",
    "Onde $\\langle \\vec u \\rangle_v$ é uma função de $\\vec v$, $t$ e $\\Delta t$. Portanto,\n",
    " \n",
    " $$\\begin{align}\n",
    "P\\big(\\vec{v_0}, \\vec{v}, t + \\Delta t\\big) &= P\\big(\\vec{v_0}, \\vec{v}, t\\big) - P\\big(\\vec{v_0}, \\vec{v}, t\\big)\\frac{\\partial}{\\partial{\\vec{v}}}\\cdot\\langle \\vec u \\rangle_v -\\langle \\vec u \\rangle_v\\cdot\\frac{\\partial}{\\partial{\\vec{v}}}P\\big(\\vec{v_0}, \\vec{v}, t\\big) \\\\\n",
    "&+ \\frac{1}{2}P\\big(\\vec{v_0}, \\vec{v}, t\\big)\\int_{}^{}d^3 u\\bigg(\\vec{u}\\cdot\\frac{\\partial}{\\partial{\\vec{v}}}\\bigg)^2g\\big(\\vec{v}, t, \\vec{u}, \\Delta t\\big) \\\\\n",
    "&+ \\frac{1}{2}\\int_{}^{}d^3 u g\\big(\\vec{v}, t, \\vec{u}, \\Delta t\\big)\\bigg(\\vec{u}\\cdot\\frac{\\partial}{\\partial{\\vec{v}}}\\bigg)^2P\\big(\\vec{v_0}, \\vec{v}, t\\big) \\\\\n",
    "&+ \\bigg[\\int_{}^{}d^3 u\\bigg(\\vec{u}\\cdot\\frac{\\partial}{\\partial{\\vec{v}}}\\bigg)g\\big(\\vec{v} , t, \\vec{u}, \\Delta t\\big)\\vec{u} \\bigg]\\cdot\\frac{\\partial}{\\partial{\\vec{v}}}P\\big(\\vec{v_0}, \\vec{v}, t\\big) \\\\\n",
    "&+ \\dots \\tag{13}\n",
    "\\end{align}$$"
   ]
  },
  {
   "cell_type": "markdown",
   "metadata": {},
   "source": [
    "Agora, vamos abrir o quarto termo:\n",
    "\n",
    "$$ \\frac{1}{2}P\\big(\\vec{v_0}, \\vec{v}, t\\big)\\int_{}^{}d^3 u\\bigg(\\vec{u}\\cdot\\frac{\\partial}{\\partial{\\vec{v}}}\\bigg)^2g\\big(\\vec{v}, t, \\vec{u}, \\Delta t\\big) = \\frac{1}{2}P\\big(\\vec{v_0}, \\vec{v}, t\\big)\\int_{}^{}d^3 u\\bigg(\\sum_{n = 1}^{3} u_n\\frac{\\partial}{\\partial{v_n}}\\bigg)^2g\\big(\\vec{v}, t, \\vec{u}, \\Delta t\\big) \\tag{14}$$\n",
    "\n",
    "onde os índices 1, 2 e 3 equivalem a x, y e z, respectivamente.\n",
    "\n",
    "Calculando o quadrado do que está entre parênteses, obtemos\n",
    "\n",
    "$$\n",
    "\\frac{1}{2}P\\big(\\vec{v_0}, \\vec{v}, t\\big)\\int_{}^{}d^3 u\\bigg(\\sum_{n = 1}^{3} u_n\\frac{\\partial}{\\partial{v_n}}\\bigg)^2g\\big(\\vec{v}, t, \\vec{u}, \\Delta t\\big) = \\frac{1}{2}P\\big(\\vec{v_0}, \\vec{v}, t\\big)\\sum_{m = 1}^{3}\\sum_{n = 1}^{3} \\frac{\\partial^2}{\\partial{v_m}\\partial{v_n}} \\int_{}^{} d^3 u g\\big(\\vec{v}, t, \\vec{u}, \\Delta t\\big) u_m u_n \\tag{15}$$\n",
    "\n",
    "Se estamos considerando uma substância isotrópica, ou seja, que possui as mesmas propriedades físicas em qualquer direção, então segue que \n",
    "\n",
    "$$\\int_{}^{} d^3 u g\\big(\\vec{v}, t, \\vec{u}, \\Delta t\\big) u_m u_n = \\frac{\\delta_{mn}}{3}\\int_{}^{} d^3 u g\\big(\\vec{v}, t, \\vec{u}, \\Delta t\\big) u^2 = \\frac{\\delta_{mn}}{3}\\big\\langle \\vec{u}^2 \\big\\rangle_v \\tag{16}$$\n",
    "\n",
    "Substituindo na Eq.(15):\n",
    "\n",
    "$$\\frac{1}{2}P\\big(\\vec{v_0}, \\vec{v}, t\\big)\\int_{}^{}d^3 u\\bigg(\\vec{u}\\cdot\\frac{\\partial}{\\partial{\\vec{v}}}\\bigg)^2g\\big(\\vec{v}, t, \\vec{u}, \\Delta t\\big) = \\frac{1}{6}P\\big(\\vec{v_0}, \\vec{v}, t\\big)\\frac{\\partial}{\\partial{\\vec v}}\\cdot\\frac{\\partial}{\\partial{\\vec v}}\\big\\langle \\vec{u}^2 \\big\\rangle_v \\tag{17}$$\n",
    "\n",
    "Usando o mesmo procedimento, podemos simplificar outro termo da Eq. (13):\n",
    "\n",
    "$$\\frac{1}{2}\\int_{}^{}d^3 u g\\big(\\vec{v}, t, \\vec{u}, \\Delta t\\big)\\bigg(\\vec{u}\\cdot\\frac{\\partial}{\\partial{\\vec{v}}}\\bigg)^2P\\big(\\vec{v_0}, \\vec{v}, t\\big) = \\frac{\\big\\langle \\vec{u}^2 \\big\\rangle_v}{6} \\frac{\\partial}{\\partial{\\vec v}}\\cdot\\frac{\\partial}{\\partial{\\vec v}}P\\big(\\vec{v_0}, \\vec{v}, t\\big) \\tag{18}$$"
   ]
  },
  {
   "cell_type": "markdown",
   "metadata": {},
   "source": [
    " Inserindo esses resultados na Eq. (13), temos\n",
    "\n",
    " $$\\begin{align}\n",
    "P\\big(\\vec{v_0}, \\vec{v}, t + \\Delta t\\big) &= P\\big(\\vec{v_0}, \\vec{v}, t\\big) - P\\big(\\vec{v_0}, \\vec{v}, t\\big)\\frac{\\partial}{\\partial{\\vec{v}}}\\cdot\\langle \\vec u \\rangle_v -\\langle \\vec u \\rangle_v\\cdot\\frac{\\partial}{\\partial{\\vec{v}}}P\\big(\\vec{v_0}, \\vec{v}, t\\big) \\\\\n",
    "&+ \\frac{1}{6}\\bigg[P\\big(\\vec{v_0}, \\vec{v}, t\\big)\\frac{\\partial}{\\partial{\\vec v}}\\cdot\\frac{\\partial}{\\partial{\\vec v}}\\big\\langle \\vec{u}^2 \\big\\rangle_v + \\big\\langle \\vec{u}^2 \\big\\rangle_v \\frac{\\partial}{\\partial{\\vec v}}\\cdot\\frac{\\partial}{\\partial{\\vec v}}P\\big(\\vec{v_0}, \\vec{v}, t\\big)\\bigg] \\\\\n",
    "&+ \\bigg[\\int_{}^{}d^3 u\\bigg(\\vec{u}\\cdot\\frac{\\partial}{\\partial{\\vec{v}}}\\bigg)g\\big(\\vec{v} , t, \\vec{u}, \\Delta t\\big)\\vec{u} \\bigg]\\cdot\\frac{\\partial}{\\partial{\\vec{v}}}P\\big(\\vec{v_0}, \\vec{v}, t\\big) \\\\\n",
    "&+ \\dots \\tag{19}\n",
    "\\end{align}$$"
   ]
  },
  {
   "cell_type": "markdown",
   "metadata": {},
   "source": [
    "Podemos também simplificar o último termo explicitado na equação anterior.\n",
    "\n",
    "$$\\begin{align}\n",
    "\\bigg[\\int_{}^{}d^3 u\\bigg(\\vec{u}\\cdot\\frac{\\partial}{\\partial{\\vec{v}}}\\bigg)g\\big(\\vec{v} , t, \\vec{u}, \\Delta t\\big)\\vec{u} \\bigg]\\cdot\\frac{\\partial}{\\partial{\\vec{v}}}P\\big(\\vec{v_0}, \\vec{v}, t\\big) &= \\sum_{m = 1}^{3}\\sum_{n = 1}^{3}\\bigg[\\int_{}^{}d^3 u \\bigg( u_m\\frac{\\partial}{\\partial{v_m}} \\bigg)g\\big(\\vec{v} , t, \\vec{u}, \\Delta t\\big)u_n\\bigg]\\frac{\\partial}{\\partial{v_n}}P\\big(\\vec{v_0}, \\vec{v}, t\\big) \\\\\n",
    "&= \\sum_{m = 1}^{3}\\sum_{n = 1}^{3}\\frac{\\partial}{\\partial{v_n}}P\\big(\\vec{v_0}, \\vec{v}, t\\big)\\frac{\\partial}{\\partial{v_m}}\\int_{}^{}d^3 u  g\\big(\\vec{v} , t, \\vec{u}, \\Delta t\\big)u_mu_n \\\\\n",
    "&= \\sum_{m = 1}^{3}\\sum_{n = 1}^{3}\\frac{\\delta_{mn}}{3}\\bigg[\\frac{\\partial}{\\partial{v_n}}P\\big(\\vec{v_0}, \\vec{v}, t\\big)\\bigg]\\frac{\\partial{\\big\\langle \\vec{u}^2 \\big\\rangle_v }}{\\partial{v_m}} \\\\\n",
    "&= \\frac{1}{3}\\frac{\\partial{\\big\\langle \\vec{u}^2 \\big\\rangle_v }}{\\partial{\\vec v}}\\cdot\\frac{\\partial}{\\partial{\\vec v}}P\\big(\\vec{v_0}, \\vec{v}, t\\big) \\tag{20}\n",
    "\\end{align}\n",
    "$$"
   ]
  },
  {
   "cell_type": "markdown",
   "metadata": {},
   "source": [
    "Inserindo a expressão acima na Eq.(19) resulta\n",
    "\n",
    "$$ \\begin{align}\n",
    "P\\big(\\vec{v_0}, \\vec{v}, t + \\Delta t\\big) &= P\\big(\\vec{v_0}, \\vec{v}, t\\big) - P\\big(\\vec{v_0}, \\vec{v}, t\\big)\\frac{\\partial}{\\partial{\\vec{v}}}\\cdot\\langle \\vec u \\rangle_v -\\langle \\vec u \\rangle_v\\cdot\\frac{\\partial}{\\partial{\\vec{v}}}P\\big(\\vec{v_0}, \\vec{v}, t\\big) \\\\\n",
    "&+ \\frac{1}{6}\\bigg[P\\big(\\vec{v_0}, \\vec{v}, t\\big)\\frac{\\partial}{\\partial{\\vec v}}\\cdot\\frac{\\partial{\\big\\langle \\vec{u}^2 \\big\\rangle_v}}{\\partial{\\vec v}} + \\big\\langle \\vec{u}^2 \\big\\rangle_v \\frac{\\partial}{\\partial{\\vec v}}\\cdot\\frac{\\partial}{\\partial{\\vec v}}P\\big(\\vec{v_0}, \\vec{v}, t\\big)\\bigg] \\\\\n",
    "&+ \\frac{1}{3}\\frac{\\partial{\\big\\langle \\vec{u}^2 \\big\\rangle_v }}{\\partial{\\vec v}}\\cdot\\frac{\\partial}{\\partial{\\vec v}}P\\big(\\vec{v_0}, \\vec{v}, t\\big) \\\\\n",
    "&+ \\dots \\tag{21}\n",
    "\\end{align}\n",
    "$$"
   ]
  },
  {
   "cell_type": "markdown",
   "metadata": {},
   "source": [
    "## 4 - Derivada Parcial no Tempo"
   ]
  },
  {
   "cell_type": "markdown",
   "metadata": {},
   "source": [
    "Nosso objetivo é calcular\n",
    "\n",
    "$$\n",
    "\\frac{\\partial P\\big(\\vec{v_0}, \\vec{v}, t\\big)}{\\partial t} = \\lim_{\\Delta t \\to 0} \\frac{P\\big(\\vec{v_0}, \\vec{v}, t + \\Delta t\\big) - P\\big(\\vec{v_0}, \\vec{v}, t\\big)}{\\Delta t}\n",
    "$$\n",
    "\n",
    "Lembrando que $\\langle \\vec u \\rangle_v$ e $\\big\\langle \\vec{u}^2 \\big\\rangle_v$ são funções de $\\Delta t$, temos:\n",
    "\n",
    "$$\n",
    "\\begin{align}\n",
    "    \\frac{\\partial P\\big(\\vec{v_0}, \\vec{v}, t\\big)}{\\partial t} &= - P\\big(\\vec{v_0}, \\vec{v}, t\\big)\\frac{\\partial}{\\partial{\\vec{v}}}\\cdot \\bigg(\\lim_{\\Delta t \\to 0}\\frac{\\langle \\vec u \\rangle_v}{\\Delta t}\\bigg) -\\bigg(\\lim_{\\Delta t \\to 0}\\frac{\\langle \\vec u \\rangle_v}{\\Delta t}\\bigg)\\cdot\\frac{\\partial}{\\partial{\\vec{v}}}P\\big(\\vec{v_0}, \\vec{v}, t\\big) \\\\ \\\\\n",
    "    &+ \\frac{1}{6}\\bigg[P\\big(\\vec{v_0}, \\vec{v}, t\\big)\\frac{\\partial}{\\partial{\\vec v}}\\cdot\\frac{\\partial}{\\partial{\\vec v}}\\bigg[\\lim_{\\Delta t \\to 0}\\frac{1}{\\Delta t}\\big\\langle \\vec{u}^2 \\big\\rangle_v\\bigg] + \\bigg[\\lim_{\\Delta t \\to 0}\\frac{1}{\\Delta t}\\big\\langle \\vec{u}^2 \\big\\rangle_v\\bigg] \\frac{\\partial}{\\partial{\\vec v}}\\cdot\\frac{\\partial}{\\partial{\\vec v}}P\\big(\\vec{v_0}, \\vec{v}, t\\big)\\bigg] \\\\ \\\\\n",
    "    &+ \\frac{1}{3}\\frac{\\partial}{\\partial{\\vec v}}\\bigg[\\lim_{\\Delta t \\to 0}\\frac{1}{\\Delta t}\\big\\langle \\vec{u}^2 \\big\\rangle_v\\bigg] \\cdot\\frac{\\partial}{\\partial{\\vec v}}P\\big(\\vec{v_0}, \\vec{v}, t\\big) \\\\ \\\\\n",
    "    &+ \\dots \\tag{22}\n",
    "\\end{align}\n",
    "$$"
   ]
  },
  {
   "cell_type": "markdown",
   "metadata": {},
   "source": [
    "Por conveniência, façamos \n",
    "\n",
    "$$h_1 = \\lim_{\\Delta t \\to 0} \\frac{1}{\\Delta t}\\langle \\vec u \\rangle_v \\tag{23}$$\n",
    "\n",
    "$$h_2 = \\lim_{\\Delta t \\to 0} \\frac{1}{\\Delta t}\\big\\langle \\vec{u}^2 \\big\\rangle_v \\tag{24}$$\n",
    "\n",
    "Então, substituindo e reorganizando:\n",
    "\n",
    "$$\\begin{align}\n",
    "\\frac{\\partial P\\big(\\vec{v_0}, \\vec{v}, t\\big)}{\\partial t} &= \\bigg(\\frac{1}{6}\\frac{\\partial}{\\partial{\\vec v}}\\cdot\\frac{\\partial{h_2}}{\\partial{\\vec v}}- \\frac{\\partial}{\\partial{\\vec{v}}}\\cdot h_1 \\bigg)P\\big(\\vec{v_0}, \\vec{v}, t\\big) \\\\ \\\\\n",
    "&+ \\bigg(\\frac{1}{3}\\frac{\\partial{h_2}}{\\partial{\\vec v}} - h_1\\bigg)\\cdot\\frac{\\partial}{\\partial{\\vec v}}P\\big(\\vec{v_0}, \\vec{v}, t\\big) \\\\ \\\\\n",
    "&+\\frac{h_2}{6} \\frac{\\partial}{\\partial{\\vec v}}\\cdot\\frac{\\partial}{\\partial{\\vec v}}P\\big(\\vec{v_0}, \\vec{v}, t\\big) \\\\ \\\\\n",
    "&+ \\dots \\tag{25}\n",
    "\\end{align}$$"
   ]
  },
  {
   "cell_type": "markdown",
   "metadata": {},
   "source": [
    "### 4.1 - Obtendo $h_1$ "
   ]
  },
  {
   "cell_type": "markdown",
   "metadata": {},
   "source": [
    "Para calcular o limite $h_1$, note que $\\vec u$ representa um incremento de velocidade:\n",
    "\n",
    "$$\\begin{align}\n",
    "\\vec u &= \\vec{v}(t + \\Delta t) - \\vec{v}(t) \\\\ \n",
    "&= \\frac{1}{m}\\int_{t}^{t + \\Delta t} dt'\\vec{F}(t') - \\frac{\\gamma}{m}\\int_{t}^{t + \\Delta t} dt'\\vec{v}(t')\n",
    "\\end{align} \\tag{26}$$\n",
    "\n",
    "Cujo valor médio no ensemble dá\n",
    "\n",
    "$$\\big \\langle \\vec u \\big \\rangle_v = -\\frac{\\gamma}{m}\\bigg \\langle\\int_{t}^{t + \\Delta t} dt'\\vec{v}(t') \\bigg\\rangle_v \\tag{27}$$\n",
    "\n",
    "pois $\\big\\langle \\vec{F}(t') \\big\\rangle_v = 0$, como já vimos na [**Teoria do Movimento Browniano com Langevin**](https://rawgit.com/CaioDallaqua/Dinamica_Estocastica/master/HTML/Teoria_do_Movimento_Browniano_com_Langevin.html).\n",
    "\n",
    "Observe, contudo, que \n",
    "\n",
    "$$\\int_{t}^{t + \\Delta t} dt' \\vec{v}(t') = \\vec{v}(t)\\Delta t + O\\big[\\Delta t^2\\big] \\tag{28}$$\n",
    "\n",
    "Usando isso em $\\big \\langle \\vec u \\big \\rangle_v$:\n",
    "\n",
    "$$\\begin{align}\n",
    "\\big \\langle \\vec u \\big \\rangle_v &= -\\frac{\\gamma}{m}\\bigg \\langle \\vec{v}(t)\\Delta t + O\\big[\\Delta t^2\\big] \\bigg \\rangle_v \\\\\n",
    "&= -\\frac{\\gamma}{m} \\vec{v}(t)\\Delta t + O\\big[\\Delta t^2\\big] \\tag{29}\n",
    "\\end{align}$$\n",
    "\n",
    "Agora podemos calcular $h_1$,\n",
    "\n",
    "$$\n",
    "h_1 = \\lim_{\\Delta t \\to 0} \\frac{-\\frac{\\gamma}{m} \\vec{v}(t)\\Delta t + O\\big[\\Delta t^2\\big]}{\\Delta t} = -\\frac{\\gamma}{m}\\vec{v}(t) \\tag{30}\n",
    "$$"
   ]
  },
  {
   "cell_type": "markdown",
   "metadata": {},
   "source": [
    "### 4.2 - Calculando $h_2$ "
   ]
  },
  {
   "cell_type": "markdown",
   "metadata": {},
   "source": [
    "Para obtermos $h_2$, basta o seguinte\n",
    "\n",
    "$$\n",
    "\\begin{align}\n",
    "    \\vec{u} &= \\vec{v}(t + \\Delta t) - \\vec{v}(t) \\\\\n",
    "    \\vec{u}^2 &= \\big[ \\vec{v}(t + \\Delta t) - \\vec{v}(t) \\big]^2 \\\\\n",
    "    \\big \\langle \\vec{u}^2\\big \\rangle_v &= \\bigg \\langle \\big[ \\vec{v}(t + \\Delta t) - \\vec{v}(t) \\big]^2 \\bigg \\rangle_v \\\\\n",
    "    &= \\bigg \\langle \\big[\\vec{v}(t + \\Delta t) \\big]^2 + \\big[\\vec{v}(t)\\big]^2 - 2\\vec{v}(t + \\Delta t)\\vec{v}(t) \\bigg \\rangle_v \\\\\n",
    "    &= \\bigg \\langle \\big[\\vec{v}(t + \\Delta t) \\big]^2 \\bigg \\rangle_v + \\bigg \\langle \\big[\\vec{v}(t)\\big]^2 \\bigg \\rangle_v - 2 \\bigg \\langle \\vec{v}(t + \\Delta t)\\vec{v}(t) \\bigg \\rangle_v \\tag{31}\n",
    "\\end{align}\n",
    "$$\n",
    "\n",
    "Como $\\vec{v}(t)$ é constante num ensemble em que todas as partículas têm velocidade $\\vec{v}$ no instante $t$, \n",
    "\n",
    "$$\n",
    "\\begin{align}\n",
    "    \\big \\langle \\vec{u}^2\\big \\rangle_v &= \\bigg \\langle \\big[\\vec{v}(t + \\Delta t) \\big]^2 \\bigg \\rangle_v + \\big[\\vec{v}(t)\\big]^2 - 2 \\big \\langle \\vec{v}(t + \\Delta t) \\big \\rangle_v \\vec{v}(t) \\\\\n",
    "    &= \\bigg \\langle \\big[\\vec{v}(t + \\Delta t) \\big]^2 \\bigg \\rangle_v + \\big[\\vec{v}(t)\\big]^2 - 2\\bigg[\\big \\langle \\vec{u} \\big \\rangle_v + \\vec{v}(t)\\bigg]\\vec{v}(t) \\\\\n",
    "    &= \\bigg \\langle \\big[\\vec{v}(t + \\Delta t) \\big]^2 \\bigg \\rangle_v - \\big[\\vec{v}(t)\\big]^2 - 2 \\big \\langle \\vec{u} \\big \\rangle_v \\vec{v}(t) \\tag{32}\n",
    "\\end{align}\n",
    "$$"
   ]
  },
  {
   "cell_type": "markdown",
   "metadata": {},
   "source": [
    "\n",
    "No entanto, $\\big \\langle \\vec u \\big \\rangle_v = -\\frac{\\gamma}{m} \\vec{v}(t)\\Delta t + O\\big[\\Delta t^2\\big]$, então\n",
    "\n",
    "$$\n",
    "\\begin{align}\n",
    "    \\big \\langle \\vec{u}^2\\big \\rangle_v = \\bigg \\langle \\big[\\vec{v}(t + \\Delta t) \\big]^2 \\bigg \\rangle_v + \\bigg(\\frac{2\\gamma}{m}\\Delta t - 1\\bigg) \\big[\\vec{v}(t)\\big]^2 + O\\big[\\Delta t^2\\big] \\tag{33}\n",
    "\\end{align}\n",
    "$$"
   ]
  },
  {
   "cell_type": "markdown",
   "metadata": {},
   "source": [
    "Para acharmos $\\big \\langle \\vec{u}^2\\big \\rangle_v$ e, consequentemente, $h_2$, é necessário conhecer $\\bigg \\langle \\big[\\vec{v}(t + \\Delta t) \\big]^2 \\bigg \\rangle_v$. Com isso em mente, partimos da equação de Langevin:\n",
    "\n",
    "$$m\\frac{d\\vec{v}}{dt} = -\\gamma\\vec{v} + \\vec{F}(t) \\tag{34}$$\n",
    "\n",
    "Já vimos no estudo do **Movimento Browniano com Langevin** que a solução da Eq.(34) é\n",
    "\n",
    "$$\n",
    "    \\vec{v}(t + \\Delta t) = \\vec{v}(t)exp\\bigg(\\frac{-\\gamma}{m}\\Delta t\\bigg) + \\frac{1}{m}exp\\bigg(\\frac{-\\gamma}{m}(t + \\Delta t) \\bigg)\\int_{t}^{t + \\Delta t} dt' exp\\bigg(\\frac{\\gamma}{m}t'\\bigg) \\vec{F}(t') \\tag{35}\n",
    "$$"
   ]
  },
  {
   "cell_type": "markdown",
   "metadata": {},
   "source": [
    "Quadrando a equação acima, \n",
    "\n",
    "$$\n",
    "\\begin{align}\n",
    "    \\big[\\vec{v}(t + \\Delta t)\\big]^2 &= \\big[\\vec{v}(t)\\big]^2 exp\\bigg(\\frac{-2\\gamma}{m}\\Delta t\\bigg) \\\\\n",
    "    &+ \\frac{1}{m^2}exp\\bigg(\\frac{-2\\gamma}{m}(t + \\Delta t) \\bigg)\\int_{t}^{t + \\Delta t}\\int_{t}^{t + \\Delta t} dt' dt'' exp\\bigg(\\frac{\\gamma}{m}(t' + t'')\\bigg) \\vec{F}(t')\\vec{F}(t'') \\\\\n",
    "    &+ \\frac{2\\vec{v}(t)}{m}exp\\bigg( \\frac{-\\gamma}{m}(t + 2\\Delta t) \\bigg)\\int_{t}^{t + \\Delta t} dt' exp\\bigg( \\frac{\\gamma}{m}t' \\bigg) \\vec{F}(t') \\tag{36}\n",
    "\\end{align}\n",
    "$$\n",
    "\n",
    "Agora, tomando a média no ensemble definido por todas as partículas com velocidade $\\vec{v}$ no instante $t$, obtemos\n",
    "\n",
    "$$\n",
    "\\begin{align}\n",
    "      \\bigg\\langle \\big[\\vec{v}(t + \\Delta t)\\big]^2 \\bigg\\rangle_v &= \\big[\\vec{v}(t)\\big]^2 exp\\bigg(\\frac{-2\\gamma}{m}\\Delta t\\bigg) + \\frac{1}{m^2}exp\\bigg(\\frac{-2\\gamma}{m}(t + \\Delta t) \\bigg)\\int_{t}^{t + \\Delta t}\\int_{t}^{t + \\Delta t} dt' dt'' exp\\bigg(\\frac{\\gamma}{m}(t' + t'')\\bigg) \\big\\langle\\vec{F}(t')\\vec{F}(t'')\\big\\rangle_v \\tag{37}\n",
    "\\end{align}\n",
    "$$\n",
    "\n",
    "Usando $\\big\\langle \\vec{F}(t')\\vec{F}(t'')\\big\\rangle_v = \\Gamma\\delta(t' - t'')$, segue que\n",
    "\n",
    "$$\n",
    "\\begin{align}\n",
    "    \\bigg\\langle \\big[\\vec{v}(t + \\Delta t)\\big]^2 \\bigg\\rangle_v &= \\big[\\vec{v}(t)\\big]^2 exp\\bigg(\\frac{-2\\gamma}{m}\\Delta t\\bigg) + \\frac{\\Gamma}{m^2}exp\\bigg(\\frac{-2\\gamma}{m}(t + \\Delta t) \\bigg)\\int_{t}^{t + \\Delta t}dt' exp\\bigg(\\frac{2\\gamma}{m}t'\\bigg) \\\\\n",
    "    &= \\big[\\vec{v}(t)\\big]^2 exp\\bigg(\\frac{-2\\gamma}{m}\\Delta t\\bigg) + \\frac{\\Gamma}{m^2}\\frac{m}{2\\gamma} exp\\bigg(\\frac{-2\\gamma}{m}(t + \\Delta t) \\bigg)\\bigg[exp\\bigg(\\frac{2\\gamma}{m}(t + \\Delta t)\\bigg) - exp\\bigg(\\frac{2\\gamma}{m}t\\bigg) \\bigg] \\\\\n",
    "    &= \\big[\\vec{v}(t)\\big]^2 exp\\bigg(\\frac{-2\\gamma}{m}\\Delta t\\bigg) + \\frac{\\Gamma}{2\\gamma m} \\bigg [1 - exp \\bigg ( \\frac{-2\\gamma}{m} \\Delta t \\bigg) \\bigg] \\tag{38}\n",
    "\\end{align}\n",
    "$$"
   ]
  },
  {
   "cell_type": "markdown",
   "metadata": {
    "collapsed": true
   },
   "source": [
    "Ao tomar o limite quando $\\Delta t \\to \\infty$, obtemos\n",
    "\n",
    "$$\n",
    "\\begin{align}\n",
    "    \\bigg\\langle \\big[\\vec{v}(\\infty)\\big]^2 \\bigg\\rangle_v &= \\frac{\\Gamma}{2\\gamma m} \\tag{39}\n",
    "\\end{align}\n",
    "$$\n",
    "\n",
    "No entanto, pelo teorema da equipartição, sabemos que $m\\big\\langle [\\vec{v}(\\infty)]^2 \\big\\rangle_v = 3K_B T$. Inserindo isso na Eq.(89),\n",
    "\n",
    "$$\n",
    "    \\Gamma = 6 \\gamma K_B T \\tag{40}\n",
    "$$\n",
    "\n",
    "A velocidade quadrática média se torna\n",
    "\n",
    "$$\n",
    "\\begin{align}\n",
    "    \\bigg\\langle \\big[\\vec{v}(t + \\Delta t)\\big]^2 \\bigg\\rangle_v &= \\big[\\vec{v}(t)\\big]^2 exp\\bigg(\\frac{-2\\gamma}{m}\\Delta t\\bigg) + \\frac{3 K_B T}{m} \\bigg [1 - exp \\bigg ( \\frac{-2\\gamma}{m} \\Delta t \\bigg) \\bigg] \\tag{41}\n",
    "\\end{align}\n",
    "$$\n",
    "\n",
    "Expandindo em $\\Delta t$, temos, em primeira ordem,\n",
    "\n",
    "$$ \n",
    "\\begin{align}\n",
    "    \\bigg\\langle \\big[\\vec{v}(t + \\Delta t)\\big]^2 \\bigg\\rangle_v &= \\big[\\vec{v}(t)\\big]^2 \\bigg(1 - \\frac{2\\gamma}{m}\\Delta t\\bigg) + \\frac{3 K_B T}{m} \\frac{2\\gamma}{m}\\Delta t +O\\big[(\\Delta t)^2\\big] \\\\ \\\\\n",
    "    &= \\big[\\vec{v}(t)\\big]^2 - \\frac{2\\gamma}{m}\\big[\\vec{v}(t)\\big]^2 \\Delta t + \\frac{6 \\gamma K_B T}{m^2} \\Delta t + O\\big[(\\Delta t)^2\\big] \\tag{42}\n",
    "\\end{align}\n",
    "$$"
   ]
  },
  {
   "cell_type": "markdown",
   "metadata": {},
   "source": [
    "Agora podemos obter $\\big \\langle \\vec{u}^2\\big \\rangle_v$:\n",
    "\n",
    "$$\n",
    "\\begin{align}\n",
    "    \\big \\langle \\vec{u}^2\\big \\rangle_v &= \\bigg \\langle \\big[\\vec{v}(t + \\Delta t) \\big]^2 \\bigg \\rangle_v - \\big[\\vec{v}(t)\\big]^2 - 2 \\big \\langle \\vec{u} \\big \\rangle_v \\vec{v}(t) \\\\ \\\\\n",
    "    &= \\frac{6 \\gamma K_B T}{m^2} \\Delta t + O\\big[(\\Delta t)^2\\big] \\tag{43}\n",
    "\\end{align}\n",
    "$$\n",
    "\n",
    "Consequentemente, encontramos $h_2$:\n",
    "\n",
    "$$\n",
    "\\begin{align}\n",
    "    h_2 &= \\lim_{\\Delta t \\to 0} \\frac{1}{\\Delta t}\\big\\langle \\vec{u}^2 \\big\\rangle_v \\\\ \\\\\n",
    "    &= \\lim_{\\Delta t \\to 0}\\frac{6 \\gamma K_B T}{m^2} + O[ \\Delta t ] \\\\ \\\\\n",
    "    &= \\frac{6 \\gamma K_B T}{m^2} \\tag{44}\n",
    "\\end{align}\n",
    "$$"
   ]
  },
  {
   "cell_type": "markdown",
   "metadata": {},
   "source": [
    "## 5 - Equação de Fokker e Planck para o Movimento Browniano"
   ]
  },
  {
   "cell_type": "markdown",
   "metadata": {
    "collapsed": true
   },
   "source": [
    "De posse de $h_1$ e $h_2$, a derivada parcial na qual estávamos interessados é bastante simplificada. A lembrar,\n",
    "\n",
    "$$\\begin{align}\n",
    "\\frac{\\partial P\\big(\\vec{v_0}, \\vec{v}, t\\big)}{\\partial t} &= \\bigg(\\frac{1}{6}\\frac{\\partial}{\\partial{\\vec v}}\\cdot\\frac{\\partial{h_2}}{\\partial{\\vec v}}- \\frac{\\partial}{\\partial{\\vec{v}}}\\cdot h_1 \\bigg)P\\big(\\vec{v_0}, \\vec{v}, t\\big) \\\\ \\\\\n",
    "&+ \\bigg(\\frac{1}{3}\\frac{\\partial{h_2}}{\\partial{\\vec v}} - h_1\\bigg)\\cdot\\frac{\\partial}{\\partial{\\vec v}}P\\big(\\vec{v_0}, \\vec{v}, t\\big) \\\\ \\\\\n",
    "&+\\frac{h_2}{6} \\frac{\\partial}{\\partial{\\vec v}}\\cdot\\frac{\\partial}{\\partial{\\vec v}}P\\big(\\vec{v_0}, \\vec{v}, t\\big) \\\\ \\\\\n",
    "&+ \\dots\n",
    "\\end{align}$$"
   ]
  },
  {
   "cell_type": "markdown",
   "metadata": {
    "collapsed": true
   },
   "source": [
    "Recordando que $h_1 = -\\frac{\\gamma}{m}\\vec{v}(t)$, temos então\n",
    "\n",
    "$$\\begin{align}\n",
    "\\frac{\\partial P\\big(\\vec{v_0}, \\vec{v}, t\\big)}{\\partial t} &= \\frac{\\gamma}{m}\\frac{\\partial}{\\partial{\\vec{v}}}\\cdot \\vec{v}(t) P\\big(\\vec{v_0}, \\vec{v}, t\\big) \\\\ \\\\\n",
    "&+ \\frac{\\gamma}{m}\\vec{v}(t)\\cdot\\frac{\\partial}{\\partial{\\vec v}}P\\big(\\vec{v_0}, \\vec{v}, t\\big) \\\\ \\\\\n",
    "&+\\frac{\\gamma K_B T}{m^2} \\frac{\\partial}{\\partial{\\vec v}}\\cdot\\frac{\\partial}{\\partial{\\vec v}}P\\big(\\vec{v_0}, \\vec{v}, t\\big) \\\\ \\\\\n",
    "&+ \\dots \\tag{45}\n",
    "\\end{align}$$"
   ]
  },
  {
   "cell_type": "markdown",
   "metadata": {},
   "source": [
    "Finalmente, no limite em que $\\Delta t \\to 0$, os termos proporcionais a $\\Delta t$ nas reticências somem.\n",
    "\n",
    "$$\\begin{align}\n",
    "\\frac{\\partial P\\big(\\vec{v_0}, \\vec{v}, t\\big)}{\\partial t} &= \\frac{\\gamma}{m}\\frac{\\partial}{\\partial{\\vec{v}}}\\cdot \\vec{v}(t) P\\big(\\vec{v_0}, \\vec{v}, t\\big) + \\frac{\\gamma}{m}\\vec{v}(t)\\cdot\\frac{\\partial}{\\partial{\\vec v}}P\\big(\\vec{v_0}, \\vec{v}, t\\big) + \\frac{\\gamma K_B T}{m^2} \\frac{\\partial}{\\partial{\\vec v}}\\cdot\\frac{\\partial}{\\partial{\\vec v}}P\\big(\\vec{v_0}, \\vec{v}, t\\big) \\tag{46}\n",
    "\\end{align}$$\n",
    "\n",
    "Reorganizando, obtemos a chamada **Equação de Fokker-Planck** para o movimento browniano:\n",
    "\n",
    "$$\n",
    "\\large \\frac{\\partial P\\big(\\vec{v_0}, \\vec{v}, t\\big)}{\\partial t} = \\frac{\\gamma}{m}\\frac{\\partial}{\\partial{\\vec v}}\\cdot\\big[\\vec{v}(t) P\\big(\\vec{v_0},\\vec{v}, t\\big)\\big] + \\frac{\\gamma K_B T}{m^2} \\frac{\\partial}{\\partial{\\vec v}}\\cdot\\frac{\\partial}{\\partial{\\vec v}}P\\big(\\vec{v_0}, \\vec{v}, t\\big)\n",
    "$$"
   ]
  },
  {
   "cell_type": "markdown",
   "metadata": {},
   "source": [
    "## 6 - Referências"
   ]
  },
  {
   "cell_type": "markdown",
   "metadata": {},
   "source": [
    "[1] UHLENBECK, G. E; ORNSTEIN, L. S. On the Theory of the Brownian Motion. Physical Review, 1930.\n",
    "\n",
    "[2] http://nerdyard.com/a-equacao-de-fokker-e-planck-para-o-movimento-browniano/\n",
    "\n",
    "[3] TOMÉ, T.; OLIVEIRA, M. - Dinâmica Estocástica e Irreversibilidade\n",
    "\n",
    "[4] http://www.azimuthproject.org/azimuth/show/Fokker-Planck+equation"
   ]
  }
 ],
 "metadata": {
  "kernelspec": {
   "display_name": "Python 3",
   "language": "python",
   "name": "python3"
  },
  "language_info": {
   "codemirror_mode": {
    "name": "ipython",
    "version": 3
   },
   "file_extension": ".py",
   "mimetype": "text/x-python",
   "name": "python",
   "nbconvert_exporter": "python",
   "pygments_lexer": "ipython3",
   "version": "3.5.4"
  }
 },
 "nbformat": 4,
 "nbformat_minor": 2
}
